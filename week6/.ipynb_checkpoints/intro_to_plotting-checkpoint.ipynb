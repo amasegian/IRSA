{
 "cells": [
  {
   "cell_type": "markdown",
   "id": "a1847f9f",
   "metadata": {},
   "source": [
    "# Intro to plotting with <code>matplotlib</code>\n",
    "So you want to learn how to make plots with Python? <code>matplotlib</code> is by far the most commonly used package, and it contains basically every customization option you could hope for. This notebook will walk you through the basics, but when you want to branch out, don't be afraid to turn to tools like Stack Overflow and ChatGPT for help customizing your plot!\n",
    "\n",
    "Before we get started, let's import <code>matplotlib</code> so we can actually use it. (We'll also import <code>numpy</code>, which will help us generate fake data for plotting.) The typical shorthand name for <code>matplotlib</code> is <code>plt</code> (meaning \"plot\")."
   ]
  },
  {
   "cell_type": "code",
   "execution_count": null,
   "id": "455ff105",
   "metadata": {},
   "outputs": [],
   "source": [
    "import numpy as np\n",
    "import matplotlib.pyplot as plt"
   ]
  },
  {
   "cell_type": "markdown",
   "id": "68fb3417",
   "metadata": {},
   "source": [
    "We'll also read in the dataset that we were working with earlier, which is a subset of data from the APOGEE survey. The survey makes high-resolution, spectroscopic observations of Milky Way red giant stars."
   ]
  },
  {
   "cell_type": "code",
   "execution_count": null,
   "id": "9013d3fe",
   "metadata": {
    "scrolled": true
   },
   "outputs": [],
   "source": [
    "#Importing an data structure from the astropy package that will help read in our file\n",
    "from astropy.table import Table\n",
    "\n",
    "#Reading in the table\n",
    "data = Table.read('HR_sample_data.fit') \n",
    "data"
   ]
  },
  {
   "cell_type": "code",
   "execution_count": null,
   "id": "c5d6da26",
   "metadata": {},
   "outputs": [],
   "source": [
    "#This is how you access the data stored in each column from the table\n",
    "#The syntax is: table_name['column_name']\n",
    "ra = data['RAICRS']\n",
    "dec = data['DEICRS']\n",
    "magnitude = data['Vmag']\n",
    "color = data['B-V']\n",
    "parallax = data['Plx']"
   ]
  },
  {
   "cell_type": "markdown",
   "id": "e03c6875",
   "metadata": {},
   "source": [
    "## Basic plotting\n",
    "First, we'll examine three basic types of plots, which will also demonstrate the core functionalities of the <code>matplotlib</code> package.\n",
    "\n",
    "### Line plot"
   ]
  },
  {
   "cell_type": "code",
   "execution_count": null,
   "id": "c689bb40",
   "metadata": {},
   "outputs": [],
   "source": [
    "#Generating some fake data\n",
    "x = np.linspace(0, 1, 101) "
   ]
  },
  {
   "cell_type": "code",
   "execution_count": null,
   "id": "19176ab0",
   "metadata": {},
   "outputs": [],
   "source": [
    "#Making a simple line plot\n",
    "#For reference: https://matplotlib.org/stable/api/_as_gen/matplotlib.pyplot.plot.html\n",
    "\n",
    "#Passing in two variables: x and y\n",
    "plt.plot(x, x**2) \n",
    "#Setting the axis labels (you can pass in any string you'd like)\n",
    "plt.xlabel('x')\n",
    "plt.ylabel('y')\n",
    "#Setting the title (you can pass in any string you like)\n",
    "plt.title('Figure 1')\n",
    "#This command tells your notebook to display the plot\n",
    "plt.show()"
   ]
  },
  {
   "cell_type": "code",
   "execution_count": null,
   "id": "6ab91640",
   "metadata": {},
   "outputs": [],
   "source": [
    "#To plot additional lines, simply add another plt.plot command\n",
    "#matplotlib will automatically assign different colors to the lines\n",
    "plt.plot(x, x**2)\n",
    "plt.plot(x, np.sqrt(x))\n",
    "plt.xlabel('x')\n",
    "plt.ylabel('y')\n",
    "plt.title('Figure 2')\n",
    "plt.show()"
   ]
  },
  {
   "cell_type": "code",
   "execution_count": null,
   "id": "829b8524",
   "metadata": {},
   "outputs": [],
   "source": [
    "#If you'd like to control the color of the lines, use color='color'\n",
    "#List of valid colors: https://matplotlib.org/stable/gallery/color/named_colors.html#css-colors\n",
    "#You can also feed in RGB codes\n",
    "plt.plot(x, x**2, color='red')\n",
    "plt.plot(x, np.sqrt(x), color='black')\n",
    "plt.xlabel('x')\n",
    "plt.ylabel('y')\n",
    "plt.title('Figure 2')\n",
    "plt.show()"
   ]
  },
  {
   "cell_type": "code",
   "execution_count": null,
   "id": "eacb5891-3e51-4054-bd09-8919b1230dfc",
   "metadata": {},
   "outputs": [],
   "source": [
    "#To add a legend to the plot, you need to associate a \"label\" to each plt.plot call\n",
    "plt.plot(x, x**2, color='red', label='y=x^2')\n",
    "plt.plot(x, np.sqrt(x), color='black', label='y=sqrt(x)')\n",
    "\n",
    "#This line actually adds the legend, using the labels you just defined\n",
    "#It can be located anywhere below the lines that define the labels (doesn't have to be immediately after)\n",
    "plt.legend()\n",
    "\n",
    "#You can set the axis limits using the following syntax:\n",
    "plt.xlim(0,1)\n",
    "plt.ylim(0,1)\n",
    "\n",
    "#Stuff we've already covered:\n",
    "plt.title('Figure 3')\n",
    "plt.xlabel('x')\n",
    "plt.ylabel('y')\n",
    "plt.show()"
   ]
  },
  {
   "cell_type": "markdown",
   "id": "9171b670",
   "metadata": {},
   "source": [
    "### Histogram\n",
    "\n",
    "Let's look at the APOGEE data now. What if we wanted to examine the distribution of masses for our stars? A histogram is a good choice here because the masses are a 1D dataset. To make a histogram in <code>matplotlib</code>, we can use the following function:"
   ]
  },
  {
   "cell_type": "code",
   "execution_count": null,
   "id": "3d379394",
   "metadata": {},
   "outputs": [],
   "source": [
    "#Making a simple histogram:\n",
    "#For reference: https://matplotlib.org/stable/api/_as_gen/matplotlib.pyplot.hist.html\n",
    "plt.hist(magnitude, color='green')\n",
    "plt.xlabel('V_mag', size=12) #size=12 will set the fontsize for the label\n",
    "plt.ylabel('count', size=12)\n",
    "plt.show()"
   ]
  },
  {
   "cell_type": "code",
   "execution_count": null,
   "id": "6a20a566",
   "metadata": {},
   "outputs": [],
   "source": [
    "#You can specify the bins of the histogram either by number (by passing an int) or by a list of bin boundaries\n",
    "bins = 100\n",
    "bins = np.arange(0, 13, 0.1)\n",
    "plt.hist(magnitude, color='green', bins=bins)\n",
    "plt.xlabel('V_mag', size=12) \n",
    "plt.ylabel('count', size=12)\n",
    "plt.show()"
   ]
  },
  {
   "cell_type": "code",
   "execution_count": null,
   "id": "dc648b6e",
   "metadata": {},
   "outputs": [],
   "source": [
    "#You can change the histogram to an outline by passing histtype='step'\n",
    "#This is really useful for overplotting multiple histograms\n",
    "plt.hist(magnitude, color='green', histtype='step')\n",
    "plt.xlabel('V_mag', size=12) \n",
    "plt.ylabel('count', size=12)\n",
    "plt.show()"
   ]
  },
  {
   "cell_type": "markdown",
   "id": "04843fb2",
   "metadata": {},
   "source": [
    "### Scatterplot\n",
    "Let's try to plot luminosity versus temperature for all the stars in our sample."
   ]
  },
  {
   "cell_type": "code",
   "execution_count": null,
   "id": "542b194d",
   "metadata": {},
   "outputs": [],
   "source": [
    "#Naively, we might expect to do something like this:\n",
    "plt.plot(color, magnitude)\n",
    "plt.xlabel('B-V (color)', size=12)\n",
    "plt.ylabel('V_mag (magnitude)', size=12)\n",
    "plt.show()"
   ]
  },
  {
   "cell_type": "markdown",
   "id": "c178dc19",
   "metadata": {},
   "source": [
    "Oh no! This doesn't look right at all. Well, that's because <code>plt.plot()</code> connects points with lines -- this may be good for plotting trajectories, or orbits for example, but not these data points. Here we should use <code>plt.scatter()</code> instead. "
   ]
  },
  {
   "cell_type": "code",
   "execution_count": null,
   "id": "fb4aab18",
   "metadata": {},
   "outputs": [],
   "source": [
    "#Making a simple scatterplot:\n",
    "#For reference: https://matplotlib.org/stable/api/_as_gen/matplotlib.pyplot.scatter.html\n",
    "plt.scatter(color, magnitude)\n",
    "plt.xlabel('B-V (color)', size=12)\n",
    "plt.ylabel('V_mag (magnitude)', size=12)\n",
    "plt.show()"
   ]
  },
  {
   "cell_type": "markdown",
   "id": "27b26f6e",
   "metadata": {},
   "source": [
    "(Technically, <code>plt.plot()</code> is capable of plotting both lines and points, so you can also achieve the intended effect by adding <code>linestyle='None', marker='o'</code> to the <code>plt.plot()</code> call. However, <code>plt.scatter()</code> is generally the better choice, since it was specifically designed to make scatterplots.)\n",
    "\n",
    "This is an improvement, but we can still do much better in terms of visualization in a couple of ways. One of the confusing things about astronomy is that a smaller magnitude actually corresponds to a brighter star. This means that our plot currently has brighter stars at the bottom of the y-axis and fainter stars at the top. It would be better to invert the y-axis so that brightness increases upwards, as we would typically expect."
   ]
  },
  {
   "cell_type": "code",
   "execution_count": null,
   "id": "f0fa7f62",
   "metadata": {},
   "outputs": [],
   "source": [
    "#Demonstrating how to change marker size (s=10) and shape (marker='x')\n",
    "plt.scatter(color, magnitude, s=10, marker='x') \n",
    "plt.xlabel('B-V (color)', size=12)\n",
    "plt.ylabel('Vmag (magnitude)', size=12)\n",
    "#Inverting the y axis\n",
    "#This will also work for the x axis, if you just change out \"y\" for \"x\"\n",
    "#You could also achieve this effect by setting the y-limits in reverse\n",
    "plt.gca().invert_yaxis()\n",
    "plt.show()"
   ]
  },
  {
   "cell_type": "markdown",
   "id": "99cb9a95",
   "metadata": {},
   "source": [
    "## Advanced techniques\n",
    "\n",
    "Now, we'll explore a few more advanced <code>matplotlib</code> techniques. These are just the tip of the iceberg -- remember, if you can dream it, <code>matplotlib</code> can probably do it! In fact, <code>matplotlib</code> supports many more types of plots than just the four shown above. Check out [this comprehensive list](https://matplotlib.org/stable/plot_types/index.html) for more!"
   ]
  },
  {
   "cell_type": "markdown",
   "id": "36b5bbd3",
   "metadata": {},
   "source": [
    "### Colorbars\n",
    "\n",
    "A colorbar allows you to map colors to scalar values, i.e., color-code your data points by a third parameter. This can be a nice way to show 3D information in a 2D space. For example, take the color-magnitude we plotted in the scatterplot section above. What if we wanted to see how a third parameter varied in color-magnitude space?"
   ]
  },
  {
   "cell_type": "code",
   "execution_count": null,
   "id": "d5b37bb1",
   "metadata": {},
   "outputs": [],
   "source": [
    "#We add the third variable as the \"color\" dimensions by writing c=variable\n",
    "plt.scatter(color, magnitude, c=parallax, s=10, marker='x')\n",
    "plt.xlabel('B-V (color)', size=12)\n",
    "plt.ylabel('V_mag (magnitude)', size=12)\n",
    "plt.gca().invert_yaxis()\n",
    "#Then we add a colorbar to the plot with this call:\n",
    "plt.colorbar(label='parallax') #label='name' will append a label to the axis\n",
    "plt.show()"
   ]
  },
  {
   "cell_type": "code",
   "execution_count": null,
   "id": "ad529465-0180-48de-b6fe-1e80b642fa00",
   "metadata": {},
   "outputs": [],
   "source": [
    "#matplotlib provides various colormaps that you can use besides the default 'viridis'\n",
    "#For reference: https://matplotlib.org/stable/users/explain/colors/colormaps.html\n",
    "plt.scatter(color, magnitude, c=parallax, s=10, marker='x', cmap='magma')\n",
    "plt.xlabel('B-V (color)', size=12)\n",
    "plt.ylabel('V_mag (magnitude)', size=12)\n",
    "plt.gca().invert_yaxis()\n",
    "plt.colorbar(label='parallax')\n",
    "plt.show()"
   ]
  },
  {
   "cell_type": "markdown",
   "id": "cf6a69d2",
   "metadata": {},
   "source": [
    "### Heatmaps\n",
    "\n",
    "There are a couple options for making heatmaps in <code>matplotlib</code>. Which one you choose to use depends on your data. For example, if we have image-like data, where each location in the heatmap can be treated as a pixel with a certain intensity, we want to use <code>plt.imshow()</code>."
   ]
  },
  {
   "cell_type": "code",
   "execution_count": null,
   "id": "16fefe35",
   "metadata": {},
   "outputs": [],
   "source": [
    "#Generating a fake image\n",
    "np.random.seed(19680801) #Fixing random state for reproducibility\n",
    "rand_image = np.random.random((100, 100))"
   ]
  },
  {
   "cell_type": "code",
   "execution_count": null,
   "id": "b725cd50",
   "metadata": {},
   "outputs": [],
   "source": [
    "#Making a simple heatmap\n",
    "#For reference: https://matplotlib.org/stable/api/_as_gen/matplotlib.pyplot.imshow.html\n",
    "plt.imshow(rand_image, cmap='magma') #We can change the colormap just like in the previous section\n",
    "plt.colorbar()\n",
    "plt.show()"
   ]
  },
  {
   "cell_type": "markdown",
   "id": "41a6db8b",
   "metadata": {},
   "source": [
    "You can also use <code>plt.hist2d()</code> to make a 2D histogram of your data, which differs from the above case in that you define the \"pixel\" boundaries in coordinates that are relevant to your data:"
   ]
  },
  {
   "cell_type": "code",
   "execution_count": null,
   "id": "0412464d",
   "metadata": {},
   "outputs": [],
   "source": [
    "#Making a 2D histogram\n",
    "#For reference: https://matplotlib.org/stable/api/_as_gen/matplotlib.pyplot.hist2d.html\n",
    "plt.hist2d(color, magnitude, bins=50, range=[[-0.2, 2], [2,13]], cmap='gray_r')\n",
    "plt.xlabel('B-V (color)', size=12)\n",
    "plt.ylabel('V_mag (magnitude)', size=12)\n",
    "plt.gca().invert_yaxis()\n",
    "plt.show()"
   ]
  },
  {
   "cell_type": "markdown",
   "id": "b077da47",
   "metadata": {},
   "source": [
    "### Subplots\n",
    "\n",
    "What if I want to make two plots side by side? Or make some other complex layout? <code>matplotlib</code> allows you to do this with subplots. \n",
    "\n",
    "<span style=\"color:red\">IMPORTANT NOTE: <code>matplotlib</code> subplots use a slightly different syntax from the commands we've been using so far. Rather than just using <code>plt.</code> calls, we will have to work with <code>Figure</code> and <code>Axes</code> objects. The below code demonstrates a simple way of doing this, but you will find that there are many ways to work with subplots, and you should explore on your own as the need arises!</span>\n",
    "\n",
    "The syntax we'll use for making subplots is <code>plt.subplots(num_rows, num_columns, figsize=(length,height))</code>. First, we'll show how you can recreate a single plot like the ones we've made so far with the subplots syntax. See the example below and note the changes:\n",
    "\n",
    "1. <code>plt.scatter()</code> becomes <code>axes.scatter()</code>\n",
    "2. <code>plt.xlabel()</code> becomes <code>axes.set_xlabel()</code> (and the same for the y-label)\n",
    "3. The syntax for creating the colorbar is slightly different; we have to store the results of our plotting command and pass them into the colorbar command. In general, colorbars get confusing when we start working with <code>Figure</code> and <code>Axes</code> objects. You should look at the documentation, e.g. [this page](https://matplotlib.org/stable/users/explain/axes/colorbar_placement.html), for more advanced use cases. "
   ]
  },
  {
   "cell_type": "code",
   "execution_count": null,
   "id": "12512ae4",
   "metadata": {},
   "outputs": [],
   "source": [
    "#Recreating a single plot with the new syntax\n",
    "#For reference: https://matplotlib.org/stable/api/_as_gen/matplotlib.pyplot.subplots.html\n",
    "fig, axes = plt.subplots(1, 1, figsize=(9,6)) # fig is our Figure object and axes is our Axes object\n",
    "im = axes.scatter(color, magnitude, c=parallax, s=10, marker='x', cmap='magma') \n",
    "axes.set_xlabel('B-V (color)', size=12)\n",
    "axes.set_ylabel('Vmag (magnitude)', size=12)\n",
    "axes.invert_yaxis()\n",
    "plt.colorbar(im) \n",
    "plt.show()"
   ]
  },
  {
   "cell_type": "markdown",
   "id": "4c38ae58",
   "metadata": {},
   "source": [
    "Now we'll actually make two plots side-by-side:"
   ]
  },
  {
   "cell_type": "code",
   "execution_count": null,
   "id": "0bcb790b",
   "metadata": {},
   "outputs": [],
   "source": [
    "fig, axes = plt.subplots(1, 2, figsize=(12,6)) \n",
    "\n",
    "#Making the first plot\n",
    "axes[0].scatter(color, magnitude, s=10, marker='x')\n",
    "axes[0].set_xlabel('B-V (color)', size=12)\n",
    "axes[0].set_ylabel('V_mag (magnitude)', size=12)\n",
    "axes[0].set_xlim(-0.2, 2)\n",
    "axes[0].set_ylim(13, 2)\n",
    "\n",
    "#Making the second plot\n",
    "axes[1].hist2d(color, magnitude, bins=50, range=[[-0.2, 2], [2,13]], cmap='gray_r')\n",
    "axes[1].set_xlabel('B-V (color)', size=12)\n",
    "axes[1].set_ylabel('V_mag (magnitude)', size=12)\n",
    "axes[1].set_xlim(-0.2, 2)\n",
    "axes[1].set_ylim(13, 2)\n",
    "\n",
    "plt.show()"
   ]
  },
  {
   "cell_type": "markdown",
   "id": "7c861f75",
   "metadata": {},
   "source": [
    "## Your turn! Let's practice!\n",
    "Load in the provided dataset (<code>transit_data.dat</code>) and see if you can visualize the transit of a planet around a star. The columns in this dataset are not clearly labeled, but the first column is time (in unfamiliar units), the second is flux (or brightness of the star), and the third is the error on the flux. \n",
    "\n",
    "Try to make the following plots:\n",
    "1. Flux vs time line plot\n",
    "2. Flux vs time scatter plot\n",
    "3. Flux vs time including errorbars (you should use google and matplotlib documentation to give you hints on how to do this).\n",
    "4. Make the above plots visually appealing and manipulate them so that they clearly show that there is a planet in this system. It might be hard to see the transits at first -- you should adjust the axes to zoom in on one of them. Look for places where clusters of points seem to dip down below the usual pattern of the light curve.\n",
    "\n",
    "To make these plots, you'll first need to figure out how to separate the time array from the flux array from the flux error array. This will require knowledge of indexing of <code>numpy</code> arrays, which we discussed last week.\n",
    "\n",
    "<span style=\"color:red\">IMPORTANT NOTE: You must change the path below to point to the location of the <code>transit_data.dat</code> file on your system! And remember, if it's in the same folder as this notebook, you can just use a local path to access it.</span>"
   ]
  },
  {
   "cell_type": "code",
   "execution_count": null,
   "id": "aeea69e5",
   "metadata": {},
   "outputs": [],
   "source": [
    "#Change this path:\n",
    "data_path = 'your/path/here/transit_data.dat'\n",
    "\n",
    "#Loading in the data\n",
    "transit_data = np.loadtxt(data_path)\n",
    "transit_data"
   ]
  },
  {
   "cell_type": "code",
   "execution_count": null,
   "id": "8349d87b-2326-48e3-8f8d-1038ed4e6ac2",
   "metadata": {},
   "outputs": [],
   "source": [
    "#Write your code in this cell (and add more cells as needed!)"
   ]
  },
  {
   "cell_type": "markdown",
   "id": "c3a1b68c",
   "metadata": {},
   "source": [
    "*The content of this notebook was inspired by an earlier version made by former Columbia astronomy PhD student Courtney Carter.*"
   ]
  }
 ],
 "metadata": {
  "kernelspec": {
   "display_name": "Python 3 (ipykernel)",
   "language": "python",
   "name": "python3"
  },
  "language_info": {
   "codemirror_mode": {
    "name": "ipython",
    "version": 3
   },
   "file_extension": ".py",
   "mimetype": "text/x-python",
   "name": "python",
   "nbconvert_exporter": "python",
   "pygments_lexer": "ipython3",
   "version": "3.11.5"
  }
 },
 "nbformat": 4,
 "nbformat_minor": 5
}
