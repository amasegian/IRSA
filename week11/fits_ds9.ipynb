{
 "cells": [
  {
   "cell_type": "markdown",
   "id": "c556bf7f",
   "metadata": {},
   "source": [
    "# Working with FITS files in Python and DS9\n",
    "\n",
    "**FITS (Flexible Image Transport System)** is the standard data format for storing and sharing astronomical data. It was developed by NASA in the late 1970s to ensure that data collected by different telescopes and instruments could be easily analyzed by astronomers around the world.\n",
    "\n",
    "Each FITS file contains not only astronomical data (such as pixel values in an image) but also **metadata**, in the form of human-readable “headers.” These headers store critical information about how and when the data were collected (e.g., which telescope, what time, what instrument settings), allowing astronomers to quickly interpret and process the data. Because of this portability and consistency, FITS is a cornerstone of most astronomy research workflows today.\n",
    "\n",
    "Due to their specialized structure, FITS files cannot be opened with standard photo viewers. Instead, many astronomers use a tool called SAOImageDS9 (often called simply DS9). DS9 provides many of the features astronomers need to explore and analyze FITS files, including custom brightness/contrast scales, region definitions, and coordinate system overlays. Its interactive interface allows researchers to easily examine faint objects, compare multiple images, and carry out basic measurements before moving to more advanced computational analysis in Python.\n",
    "\n",
    "This notebook will introduce you to working with the FITS file format in Python and DS9. By the end of this demonstration, you should be able to:\n",
    "- Understand the basic structure of a FITS file.\n",
    "- Open a FITS file and inspect its header and data.\n",
    "- Create a simple plot of the image data.\n",
    "\n",
    "If you're curious to learn more about FITS files, check out the documentation [here](https://fits.gsfc.nasa.gov/fits_documentation.html)!\n",
    "\n",
    "---\n",
    "\n",
    "## Reading FITS files with `astropy`\n",
    "\n",
    "`astropy` provides the `fits` module, which makes it easy to work with FITS files in Python. (The documentation can be found [here](https://docs.astropy.org/en/latest/io/fits/index.html#).) We'll start by importing the module:"
   ]
  },
  {
   "cell_type": "code",
   "execution_count": null,
   "id": "4cb9b4d1",
   "metadata": {},
   "outputs": [],
   "source": [
    "from astropy.io import fits"
   ]
  },
  {
   "cell_type": "markdown",
   "id": "c1a8189b",
   "metadata": {},
   "source": [
    "We'll also import every astronomer's favorite packages, `numpy` and `matplotlib`, to help us work with the data."
   ]
  },
  {
   "cell_type": "code",
   "execution_count": null,
   "id": "942ff0b2",
   "metadata": {},
   "outputs": [],
   "source": [
    "import numpy as np\n",
    "import matplotlib.pyplot as plt"
   ]
  },
  {
   "cell_type": "markdown",
   "id": "9c7e9478",
   "metadata": {},
   "source": [
    "### Opening the file\n",
    "\n",
    "When you open a FITS file using `fits.open(...)`, Astropy loads the file into a list-like object called an **HDUList**. Each **Header/Data Unit (HDU)** can contain different types of data.\n",
    "\n",
    "The first element of the HDUList (`hdulist[0]`) always holds the **primary HDU**, which often contains the main data (if it is an image). Subsequent HDUs might contain additional extensions, such as extra images, tables, or other data.\n",
    "\n",
    "Below, we'll open an example FITS file and use the `.info()` method to view the structure of the HDUList."
   ]
  },
  {
   "cell_type": "code",
   "execution_count": null,
   "id": "8015f9af",
   "metadata": {},
   "outputs": [],
   "source": [
    "#Path to our file (assuming that the m42/ directory is in the same place as the notebook)\n",
    "filename = 'm42/M42_g.fits'\n",
    "\n",
    "#Opening the file\n",
    "#fits.open() will return an HDUList object\n",
    "hdulist = fits.open(filename)\n",
    "\n",
    "#Viewing the structure of the HDUList\n",
    "hdulist.info()"
   ]
  },
  {
   "cell_type": "markdown",
   "id": "8e92e98b",
   "metadata": {},
   "source": [
    "The `.info()` method shows:\n",
    "- The index of each HDU (e.g., `[0]`, `[1]`, ...)\n",
    "- The name of the HDU (if it has one)\n",
    "- The type of data in the HDU (e.g., `IMAGE`, `BINTABLE`, etc)\n",
    "- The dimensions and format of the data\n",
    "\n",
    "We can see that this file only has one HDU, which contains an image with 2048x2048 pixels. If we instead open the `stack.fits` example file, we'll see multiple HDUs:"
   ]
  },
  {
   "cell_type": "code",
   "execution_count": null,
   "id": "59e68c66",
   "metadata": {},
   "outputs": [],
   "source": [
    "stack_hdulist = fits.open('m42/stack.fits')\n",
    "stack_hdulist.info()"
   ]
  },
  {
   "cell_type": "markdown",
   "id": "1b52ad19",
   "metadata": {},
   "source": [
    "### Inspecting the header\n",
    "\n",
    "FITS files contain **metadata** in the form of keyword-value pairs stored in **headers**. This metadata can include information about the telescope, instrument, observation date, exposure time, coordinate system, and more.\n",
    "\n",
    "Each HDU in a FITS file has its own header. To access the header, first index the HDUList to get the HDU you want, then use `.header`. (You can use the special Jupyter Notebook function `display` to make it show up in a nice format.)"
   ]
  },
  {
   "cell_type": "code",
   "execution_count": null,
   "id": "32833e5e",
   "metadata": {
    "scrolled": true
   },
   "outputs": [],
   "source": [
    "#Accessing the header\n",
    "header = hdulist[0].header\n",
    "\n",
    "#Displaying it nicely\n",
    "display(header)"
   ]
  },
  {
   "cell_type": "markdown",
   "id": "5021fe4c",
   "metadata": {},
   "source": [
    "If you just want to see specific pieces of information, you can print out individual keywords. For example:"
   ]
  },
  {
   "cell_type": "code",
   "execution_count": null,
   "id": "1df23cfb",
   "metadata": {},
   "outputs": [],
   "source": [
    "print(header['OBJECT'])      #The object name\n",
    "print(header['DATE-OBS'])    #Date of observation"
   ]
  },
  {
   "cell_type": "markdown",
   "id": "bd0c9404",
   "metadata": {},
   "source": [
    "If the keyword does not exist, Astropy will raise a `KeyError`. You can check available keywords by reading through the printed header above.\n",
    "\n",
    "### Extracting and inspecting the data\n",
    "\n",
    "To access the **data** portion of an HDU, use `.data`. For image HDUs, the data typically consists of a 2D `numpy` array.\n",
    "\n",
    "Here, we'll extract the image data from the **primary HDU**. If you had additional extensions with data, you could use `hdulist[1].data` or `hdulist[2].data` (etc), depending on which extension holds the relevant image."
   ]
  },
  {
   "cell_type": "code",
   "execution_count": null,
   "id": "97735693",
   "metadata": {},
   "outputs": [],
   "source": [
    "#Accessing the data\n",
    "data = hdulist[0].data\n",
    "\n",
    "#You can now work with the data like you would any other 2D array\n",
    "print(\"Data type:\", data.dtype)\n",
    "print(\"Shape of the data array:\", data.shape)"
   ]
  },
  {
   "cell_type": "markdown",
   "id": "b4eaf5b4",
   "metadata": {},
   "source": [
    "Using `matplotlib.imshow()`, we can visualize the data array. Note that we usually reverse the vertical axis by specifying `origin='lower'` to conform to common astronomical conventions. We can also add a **colorbar** to see the range of pixel values in the image."
   ]
  },
  {
   "cell_type": "code",
   "execution_count": null,
   "id": "64b0aaa5",
   "metadata": {},
   "outputs": [],
   "source": [
    "plt.imshow(data, origin='lower', cmap='gray')\n",
    "plt.colorbar(label='pixel value')\n",
    "plt.show()"
   ]
  },
  {
   "cell_type": "markdown",
   "id": "6745de1f",
   "metadata": {},
   "source": [
    "It might look like there isn't much to see in this image, but that's not the case. We just need to tweak the colorbar scaling from the default values (which `imshow` determines internally based on the range of pixel values present in the image) to be able to see fainter details. For example, if we decrease the maximum value of the colorbar to 5000 (instead of >60000) and set the minimum value to 0: "
   ]
  },
  {
   "cell_type": "code",
   "execution_count": null,
   "id": "872ebb46",
   "metadata": {},
   "outputs": [],
   "source": [
    "plt.imshow(data, origin='lower', cmap='gray', vmin=0, vmax=5000)\n",
    "plt.colorbar(label='pixel value')\n",
    "plt.show()"
   ]
  },
  {
   "cell_type": "markdown",
   "id": "ff8174d6",
   "metadata": {},
   "source": [
    "Note that this type of scaling adjustment is much easier to do in a specialized FITS viewer like **DS9**. You can even use the Python package [`astromy_ds9`](https://pypi.org/project/astromy-ds9/) to convert DS9 scaling to a `matplotlib.colors.Normalize` object, which can be fed into `imshow`.\n",
    "\n",
    "### Closing the FITS file\n",
    "\n",
    "Once you’re done working with the FITS file, it’s good practice to close it to free up system resources, especially if you're working with multiple files.\n",
    "\n",
    "You can do this manually, or you can use a `with` statement when you first open the file (`with fits.open() as hdulist:`) to automatically close the file after the block of code completes."
   ]
  },
  {
   "cell_type": "code",
   "execution_count": null,
   "id": "e12a9691",
   "metadata": {},
   "outputs": [],
   "source": [
    "hdulist.close()"
   ]
  },
  {
   "cell_type": "markdown",
   "id": "991dc778",
   "metadata": {},
   "source": [
    "---\n",
    "\n",
    "## Viewing FITS files with DS9\n",
    "\n",
    "While Python should be your go-to for data analysis, SAOImageDS9 offers an interactive visual interface that simplifies initial data exploration. Instead of writing code for every small adjustment or measurement, you can quickly pan, zoom, adjust brightness/contrast, and define regions within DS9. This hands-on approach often speeds up discovery and troubleshooting before returning to Python for more advanced analysis.\n",
    "\n",
    "I will demonstrate the main functionalities of DS9 in class. For more details, refer to the [DS9 website](https://sites.google.com/cfa.harvard.edu/saoimageds9/documentation).\n",
    "\n",
    "### In-class activity\n",
    "\n",
    "Use DS9 to explore the the provided example data of M103 (a small star cluster in the Cassiopeia constellation) and measure the brightnesses for a small sample of stars in multiple filters. Put your brightnesses in the dictionary below, making sure that the stars are in the same order in each list. "
   ]
  },
  {
   "cell_type": "code",
   "execution_count": null,
   "id": "7c481674",
   "metadata": {},
   "outputs": [],
   "source": [
    "m103_data = {\n",
    "    'g':['REPLACE WITH YOUR STARS'],\n",
    "    'r':['REPLACE WITH YOUR STARS'],\n",
    "    'i':['REPLACE WITH YOUR STARS']\n",
    "}"
   ]
  },
  {
   "cell_type": "markdown",
   "id": "99b82f8f",
   "metadata": {},
   "source": [
    "You will also need to enter the radius of the aperture that you used to measure the star brightnesses (which should be the same for every star in every filter). This will be used to implement a rough **background subtraction** for the brightnesses you measured."
   ]
  },
  {
   "cell_type": "code",
   "execution_count": null,
   "id": "202166ab",
   "metadata": {},
   "outputs": [],
   "source": [
    "aperture_radius = 1 #REPLACE WITH YOUR APERTURE RADIUS IN ARCSEC"
   ]
  },
  {
   "cell_type": "markdown",
   "id": "e37d3cc8",
   "metadata": {},
   "source": [
    "Finally, run the cells below to perform the background subtraction and make a few plots visualizing your data. Feel free to play around with this code and even add your own plots!\n",
    "\n",
    "### Calibrations\n",
    "\n",
    "In astronomy, even the \"empty\" parts of an image contain some background light — whether from the sky glow, instrument noise, or other sources. To measure a star’s brightness accurately, we have to subtract this background. The cells below perform a rough background subtraction by using measurements made on an empty portion of the M103 images."
   ]
  },
  {
   "cell_type": "code",
   "execution_count": null,
   "id": "014e8058",
   "metadata": {},
   "outputs": [],
   "source": [
    "#Measurements of the background that I made from an empty area in each image\n",
    "background_circle_area = 503.644 #arcsec^2\n",
    "backgrounds = {'g':266034, 'r':449701, 'i':317585}\n",
    "backgrounds_per_arcsec2 = {filt:backgrounds[filt]/background_circle_area for filt in backgrounds}\n",
    "\n",
    "#Central wavelengths for our filters\n",
    "filter_centers = {'g':477.0, 'r':623.1, 'i':762.5} #nm"
   ]
  },
  {
   "cell_type": "code",
   "execution_count": null,
   "id": "7809582a",
   "metadata": {},
   "outputs": [],
   "source": [
    "#Performing background subtraction\n",
    "aperture_area = np.pi*aperture_radius**2\n",
    "for filt in m103_data:\n",
    "    bkg = backgrounds_per_arcsec2[filt]*aperture_area\n",
    "    m103_data[filt] = np.array(m103_data[filt]) - bkg"
   ]
  },
  {
   "cell_type": "markdown",
   "id": "5bd7dd64",
   "metadata": {},
   "source": [
    "### Spectral energy distribution (SED) plots\n",
    "\n",
    "The **spectral energy distribution** of an object shows how much energy that object is emitting at different wavelengths. In our case, we’re only measuring flux in three broad filters (g, r, i), so we have a very limited sampling of each star’s emission rather than a smooth, continuous spectrum. Still, these three points can reveal which filter the star is brightest in, giving us a rough idea of its temperature. "
   ]
  },
  {
   "cell_type": "code",
   "execution_count": null,
   "id": "7006888c",
   "metadata": {
    "scrolled": true
   },
   "outputs": [],
   "source": [
    "#Showing each star on its own plot\n",
    "for star in range(len(m103_data['g'])):\n",
    "    SED = [m103_data[filt][star] for filt in m103_data]\n",
    "    plt.figure(figsize=(6,4))\n",
    "    plt.plot(filter_centers.values(), SED, color='black', zorder=100, linewidth=3)\n",
    "    for filt, color in zip(filter_centers, ['tab:green', 'tab:red', 'darkred']):\n",
    "        plt.axvline(filter_centers[filt], color=color, label=filt, linestyle='--')\n",
    "    plt.title(f'Star {star}')\n",
    "    plt.legend()\n",
    "    plt.show()"
   ]
  },
  {
   "cell_type": "code",
   "execution_count": null,
   "id": "9e2e5924",
   "metadata": {
    "scrolled": true
   },
   "outputs": [],
   "source": [
    "#Showing all stars on the same plot\n",
    "plt.figure(figsize=(8,6))\n",
    "for star in range(len(m103_data['g'])):\n",
    "    SED = [m103_data[filt][star] for filt in m103_data]\n",
    "    plt.plot(filter_centers.values(), SED, zorder=100, linewidth=3)\n",
    "for filt, color in zip(filter_centers, ['tab:green', 'tab:red', 'darkred']):\n",
    "    plt.axvline(filter_centers[filt], color=color, label=filt, linestyle='--')\n",
    "plt.title(f'All stars')\n",
    "plt.legend()\n",
    "plt.show()\n",
    "\n",
    "#Uncomment this line to save the plot to the same location as the notebook\n",
    "#plt.savefig('all_SEDs.png', bbox_inches='tight', facecolor='w')"
   ]
  },
  {
   "cell_type": "markdown",
   "id": "31de740b",
   "metadata": {},
   "source": [
    "### Flux ratio plot\n",
    "\n",
    "Flux ratios serve as a proxy for **color**: a star that’s much brighter in g than in r (a large g/r ratio) is effectively *bluer*, often indicating a hotter star, whereas a star with a larger r/i ratio appears *redder* (and possibly cooler). Even though we only have three filters and a handful of stars, plotting flux ratios can highlight which stars stand out as unusually blue or red and reveal any grouping or trend in our sample."
   ]
  },
  {
   "cell_type": "code",
   "execution_count": null,
   "id": "4b8ced93",
   "metadata": {},
   "outputs": [],
   "source": [
    "plt.figure(figsize=(6,6))\n",
    "plt.scatter(np.array(m103_data['g'])/np.array(m103_data['r']),\n",
    "            np.array(m103_data['r'])/np.array(m103_data['i']))\n",
    "plt.xlabel('g/r')\n",
    "plt.ylabel('r/i')\n",
    "plt.show()\n",
    "\n",
    "#Uncomment this line to save the plot to the same location as the notebook\n",
    "#plt.savefig('flux_ratios.png', bbox_inches='tight', facecolor='w')"
   ]
  },
  {
   "cell_type": "code",
   "execution_count": null,
   "id": "225d623c",
   "metadata": {},
   "outputs": [],
   "source": []
  }
 ],
 "metadata": {
  "kernelspec": {
   "display_name": "Python 3 (ipykernel)",
   "language": "python",
   "name": "python3"
  },
  "language_info": {
   "codemirror_mode": {
    "name": "ipython",
    "version": 3
   },
   "file_extension": ".py",
   "mimetype": "text/x-python",
   "name": "python",
   "nbconvert_exporter": "python",
   "pygments_lexer": "ipython3",
   "version": "3.11.5"
  }
 },
 "nbformat": 4,
 "nbformat_minor": 5
}
