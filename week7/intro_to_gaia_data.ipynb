{
 "cells": [
  {
   "cell_type": "markdown",
   "id": "cf56e234",
   "metadata": {},
   "source": [
    "# Working with Gaia data in Python\n",
    "\n",
    "*This notebook draws heavily on material from Allen Downey's excellent Astronomical Data in Python course materials, which can be accessed [here](https://allendowney.github.io/AstronomicalData/README.html).*\n",
    "\n",
    "This notebook will introduce you to working with data from the Gaia spacecraft. Though Gaia data can be searched and retrieved from [ESA's Gaia Archive](https://gea.esac.esa.int/archive/), it's often more convenient to do this with Python. For example, if you're systematically retrieving Gaia observations for several different patches of sky, you might want to write a script to carry out the retrieval automatically rather than having to perform the searches one-by-one by hand.\n",
    "\n",
    "The general workflow for selecting and downloading data from the Gaia Archive is:\n",
    "\n",
    "1. Make a connection to the Gaia server\n",
    "\n",
    "2. Explore information about the database and the tables it contains (note that this is not always necessary, and often easier on the Gaia Archive website)\n",
    "\n",
    "3. Write a query and send it to the server\n",
    "\n",
    "4. Download the response from the server\n",
    "\n",
    "5. Continue on with your analysis!\n",
    "\n",
    "## Connecting to Gaia\n",
    "\n",
    "The library we'll use to get Gaia data is called <code>astroquery</code> (the documentation can be found [here](https://astroquery.readthedocs.io/en/latest/)).\n",
    "Specifically, we'll use `Gaia`, which is an [object that represents a connection to the Gaia database](https://astroquery.readthedocs.io/en/latest/gaia/gaia.html).\n",
    "\n",
    "We can connect to the Gaia database like this: "
   ]
  },
  {
   "cell_type": "code",
   "execution_count": null,
   "id": "15cbeedb",
   "metadata": {},
   "outputs": [],
   "source": [
    "from astroquery.gaia import Gaia"
   ]
  },
  {
   "cell_type": "markdown",
   "id": "63ff06a0",
   "metadata": {},
   "source": [
    "This import statement creates a [TAP+](http://www.ivoa.net/documents/TAP/) connection; TAP stands for \"Table Access Protocol\", which is a network protocol for sending queries to the database and getting back the results. \n",
    "\n",
    "You can include this import statement anywhere in your code, as long as it's run before you try to use `Gaia`. Common practice is to put it with any other import statements at the top of your notebook.\n",
    "\n",
    "If you encountered a <code>ModuleNotFoundError</code> when running the above cell, you probably need to install <code>astroquery</code> in your environment. Uncomment the <code>pip install</code> line in the next cell, run it, and then delete the cell (or comment out the line again so you don't accidentally rerun it). Then try to run the import cell again."
   ]
  },
  {
   "cell_type": "code",
   "execution_count": null,
   "id": "0c82ae1a",
   "metadata": {},
   "outputs": [],
   "source": [
    "#!pip install astroquery"
   ]
  },
  {
   "cell_type": "markdown",
   "id": "53a80fd3",
   "metadata": {},
   "source": [
    "You're now able to query Gaia's databases! \n",
    "\n",
    "For certain queries, you might also want to log in to your Gaia Archive account. You can still use <code>astroquery</code> to access Gaia data without being logged in, but the length of time your queries can run for and the number of sources you can retrieve will both be limited. These limitations won't apply if you log in to your account.\n",
    "\n",
    "To log in, simply run the cell below and enter your username and password. Note that your login can time out! If you leave your notebook running for a while and aren't able to run Gaia queries when you come back, you probably just have to log in again (which is as simple as rerunning this cell)."
   ]
  },
  {
   "cell_type": "code",
   "execution_count": null,
   "id": "e8e8ffef",
   "metadata": {},
   "outputs": [],
   "source": [
    "#Gaia.login()"
   ]
  },
  {
   "cell_type": "markdown",
   "id": "deb895f2",
   "metadata": {},
   "source": [
    "## Exploring the database\n",
    "\n",
    "We can use `Gaia.load_tables` to get the names of the tables in the Gaia database.  With the option `only_names=True`, it loads information about the tables, called \"metadata\", not the data itself. This is desired because the tables themselves are huge!"
   ]
  },
  {
   "cell_type": "code",
   "execution_count": null,
   "id": "99df6881",
   "metadata": {},
   "outputs": [],
   "source": [
    "tables = Gaia.load_tables(only_names=True)"
   ]
  },
  {
   "cell_type": "code",
   "execution_count": null,
   "id": "2deee5ef",
   "metadata": {},
   "outputs": [],
   "source": [
    "for table in tables:\n",
    "    print(table.name)"
   ]
  },
  {
   "cell_type": "markdown",
   "id": "55cf58b0",
   "metadata": {},
   "source": [
    "That's a lot of tables! Everything is described in the Gaia documentation (see [here](https://gea.esac.esa.int/archive/documentation/GDR3/) for the DR3 documentation). Most of the time, though, we just want to use the main Gaia table for our data release of interest. In this notebook, we'll stick to the main table for DR3, which is called <code>gaiadr3.gaia_source</code>.\n",
    "\n",
    "We can use `load_table` (not `load_tables`) to get the metadata for a single table.  The name of this function is misleading, because it only downloads metadata, not the contents of the table."
   ]
  },
  {
   "cell_type": "code",
   "execution_count": null,
   "id": "a6d284f5",
   "metadata": {},
   "outputs": [],
   "source": [
    "meta = Gaia.load_table('gaiadr3.gaia_source')\n",
    "meta"
   ]
  },
  {
   "cell_type": "markdown",
   "id": "9fe34738",
   "metadata": {},
   "source": [
    "Jupyter shows that the result is an object of type `TapTableMeta`, but it does not display the contents.\n",
    "\n",
    "To see the metadata, we have to print the object."
   ]
  },
  {
   "cell_type": "code",
   "execution_count": null,
   "id": "ce4222f7",
   "metadata": {},
   "outputs": [],
   "source": [
    "print(meta)"
   ]
  },
  {
   "cell_type": "markdown",
   "id": "296d0da5",
   "metadata": {},
   "source": [
    "We can examine the columns in this table using the `.columns` attribute of the `meta` object:"
   ]
  },
  {
   "cell_type": "code",
   "execution_count": null,
   "id": "1083df4b",
   "metadata": {
    "scrolled": true
   },
   "outputs": [],
   "source": [
    "for column in meta.columns:\n",
    "    print(column.name)"
   ]
  },
  {
   "cell_type": "markdown",
   "id": "00eed46a",
   "metadata": {},
   "source": [
    "You can probably infer what many of these columns are by looking at the names, but you should resist the temptation to guess. To find out what the columns mean, [read the documentation](https://gea.esac.esa.int/archive/documentation/GDR3/Gaia_archive/chap_datamodel/sec_dm_main_source_catalogue/ssec_dm_gaia_source.html#gaia_source-).\n",
    "\n",
    "### Exercise\n",
    "\n",
    "Gaia provides a stripped-down version of the main table for DR3, called `gaiadr3.gaia_source_lite`. Use `load_table` to get the metadata for this table.  How many columns are in the table, and how does this compare to `gaiadr3.gaia_source`? "
   ]
  },
  {
   "cell_type": "code",
   "execution_count": null,
   "id": "fa20e9ea",
   "metadata": {},
   "outputs": [],
   "source": [
    "#Put your solution here!"
   ]
  },
  {
   "cell_type": "markdown",
   "id": "7b7e1f4d",
   "metadata": {},
   "source": [
    "## Writing queries\n",
    "\n",
    "With tables as big as those stored in the Gaia database, you generally don't download the entire thing. Instead, you use queries to select only the data you want. A query is a string written in a query language (like [SQL](https://en.wikipedia.org/wiki/SQL)); for the Gaia database, the query language is a dialect of SQL called ADQL.\n",
    "\n",
    "Here's an example of a simple ADQL query:"
   ]
  },
  {
   "cell_type": "code",
   "execution_count": null,
   "id": "8dbea772",
   "metadata": {},
   "outputs": [],
   "source": [
    "query1 = \"\"\"SELECT \n",
    "TOP 10\n",
    "source_id, ra, dec, parallax \n",
    "FROM gaiadr3.gaia_source\n",
    "\"\"\""
   ]
  },
  {
   "cell_type": "markdown",
   "id": "5fb2ad11",
   "metadata": {},
   "source": [
    "**NOTE:** We're using a triple-quoted string here so we can include line breaks in the query, which makes it easier to read.\n",
    "\n",
    "The words in uppercase are ADQL keywords:\n",
    "\n",
    "* `SELECT` indicates that we are selecting data (as opposed to adding or modifying data, which you'll NEVER do to an external table).\n",
    "\n",
    "* `TOP` indicates that we only want the first 10 rows of the table, which is useful for testing a query before asking for all of the data.\n",
    "\n",
    "* `FROM` specifies which table we want data from.\n",
    "\n",
    "The third line is a list of column names separated by commas, indicating which columns we want.  \n",
    "\n",
    "Here, the keywords are capitalized and the column names are lowercase.  This is a common style, but not required.  ADQL and SQL are not case-sensitive.\n",
    "\n",
    "The query is also broken into multiple lines to make it more readable.  This is a common style, but not required.  Line breaks don't affect the query.\n",
    "\n",
    "To run this query, we use the `Gaia` object, which represents our connection to the Gaia database, and invoke `launch_job`:"
   ]
  },
  {
   "cell_type": "code",
   "execution_count": null,
   "id": "102284e0",
   "metadata": {},
   "outputs": [],
   "source": [
    "job = Gaia.launch_job(query1)\n",
    "job"
   ]
  },
  {
   "cell_type": "markdown",
   "id": "80155db0",
   "metadata": {},
   "source": [
    "The result is an object that represents the job running on a Gaia server.\n",
    "\n",
    "If you print it, it displays metadata for the forthcoming results."
   ]
  },
  {
   "cell_type": "code",
   "execution_count": null,
   "id": "bf71ea05",
   "metadata": {},
   "outputs": [],
   "source": [
    "print(job)"
   ]
  },
  {
   "cell_type": "markdown",
   "id": "42b78562",
   "metadata": {},
   "source": [
    "Don't worry about `Results: None`.  That does not actually mean there are no results.\n",
    "\n",
    "However, `Phase: COMPLETED` indicates that the job is complete, so we can get the results like this:"
   ]
  },
  {
   "cell_type": "code",
   "execution_count": null,
   "id": "cdbb911b",
   "metadata": {},
   "outputs": [],
   "source": [
    "results = job.get_results()\n",
    "type(results)"
   ]
  },
  {
   "cell_type": "markdown",
   "id": "ebc914fa",
   "metadata": {},
   "source": [
    "The `type` function indicates that the result is an Astropy <code>[Table](https://docs.astropy.org/en/stable/table/)</code>. If we just type the name of a table in a cell (or at the bottom of a cell with other code) and run it, Jupyter knows how to display the table:"
   ]
  },
  {
   "cell_type": "code",
   "execution_count": null,
   "id": "b5c4572d",
   "metadata": {},
   "outputs": [],
   "source": [
    "results"
   ]
  },
  {
   "cell_type": "markdown",
   "id": "06ee1171",
   "metadata": {},
   "source": [
    "Each column has a name, units, and a data type.\n",
    "\n",
    "For example, the units of `ra` and `dec` are degrees, and their data type is `float64`, which is a 64-bit [floating-point number](https://en.wikipedia.org/wiki/Floating-point_arithmetic), used to store measurements with a fraction part.\n",
    "\n",
    "This information comes from the Gaia database, and has been stored in the Astropy `Table` by Astroquery.\n",
    "\n",
    "### Exercise\n",
    "\n",
    "Read [the documentation](https://gea.esac.esa.int/archive/documentation/GDR3/Gaia_archive/chap_datamodel/sec_dm_main_source_catalogue/ssec_dm_gaia_source.html#gaia_source-)  of this table and choose a column that looks interesting to you.  Add the column name to the query and run it again.  What are the units of the column you selected?  What is its data type?"
   ]
  },
  {
   "cell_type": "code",
   "execution_count": null,
   "id": "58bd4919",
   "metadata": {},
   "outputs": [],
   "source": [
    "#Put your solution here!"
   ]
  },
  {
   "cell_type": "markdown",
   "id": "134e01d2",
   "metadata": {},
   "source": [
    "## Asynchronous queries\n",
    "\n",
    "`launch_job` asks the server to run the job \"synchronously\", which normally means it runs immediately.  But synchronous jobs are limited to 2000 rows.  For queries that return more rows, you should run \"asynchronously\", which mean they might take longer to get started.\n",
    "\n",
    "(If you are not sure how many rows a query will return, you can use the ADQL command `COUNT` to find out how many rows are in the result without actually returning them. For example, you could replace `TOP 3000 <col_names>` with `COUNT(col_name)` in `query2` below.)\n",
    "\n",
    "The results of an asynchronous query are stored in a file on the server, so you can start a query and come back later to get the results. For anonymous users, files are kept for three days.\n",
    "\n",
    "As an example, let's try a query that's similar to `query1`, with these changes:\n",
    "\n",
    "* It selects the first 3000 rows, so it is bigger than we should run synchronously\n",
    "\n",
    "* It selects two additional columns, `pmra` and `pmdec`, which are proper motions along the axes of `ra` and `dec`\n",
    "\n",
    "* It uses a new keyword, `WHERE`"
   ]
  },
  {
   "cell_type": "code",
   "execution_count": null,
   "id": "6fc8c14b",
   "metadata": {},
   "outputs": [],
   "source": [
    "query2 = \"\"\"SELECT \n",
    "TOP 3000\n",
    "source_id, ra, dec, pmra, pmdec, parallax\n",
    "FROM gaiadr3.gaia_source\n",
    "WHERE parallax < 1\n",
    "\"\"\""
   ]
  },
  {
   "cell_type": "markdown",
   "id": "aafc5ccc",
   "metadata": {},
   "source": [
    "A `WHERE` clause indicates which rows we want; in this case, the query selects only rows \"where\" `parallax` is less than 1.  This has the effect of selecting stars with relatively low parallax, which are farther away. \n",
    "\n",
    "`WHERE` is one of the most common clauses in ADQL/SQL, and one of the most useful, because it allows us to download only the rows we need from the database. You can use a `WHERE` clause to define criteria using any of the rows in a given table, or combinations of those rows.\n",
    "\n",
    "We use `launch_job_async` to submit an asynchronous query."
   ]
  },
  {
   "cell_type": "code",
   "execution_count": null,
   "id": "c9064791",
   "metadata": {},
   "outputs": [],
   "source": [
    "job = Gaia.launch_job_async(query2)\n",
    "job"
   ]
  },
  {
   "cell_type": "code",
   "execution_count": null,
   "id": "d47bbee5",
   "metadata": {
    "scrolled": true
   },
   "outputs": [],
   "source": [
    "results = job.get_results()\n",
    "results"
   ]
  },
  {
   "cell_type": "markdown",
   "id": "6bd5798e",
   "metadata": {},
   "source": [
    "You might notice that some values of `parallax` are negative.  As [this FAQ explains](https://www.cosmos.esa.int/web/gaia/archive-tips#negative%20parallax), \"Negative parallaxes are caused by errors in the observations.\"  They have \"no physical meaning,\" but they can be a \"useful diagnostic on the quality of the astrometric solution.\"\n",
    "\n",
    "### Exercise\n",
    "\n",
    "The clauses in a query have to be in the right order.  Go back and change the order of the clauses (lines) in `query2` and run it again.\n",
    "The modified query should fail, but notice that you don't get much useful debugging information.\n",
    "\n",
    "For this reason, developing and debugging ADQL queries can be really hard.  A few suggestions that might help:\n",
    "\n",
    "* Whenever possible, start with a working query, either an example you find online or a query you have used in the past.\n",
    "\n",
    "* Make small changes and test each change before you continue.\n",
    "\n",
    "* While you are debugging, use `TOP` to limit the number of rows in the result.  That will make each test run faster, which reduces your development time.  \n",
    "\n",
    "* Launching test queries synchronously might make them start faster, too."
   ]
  },
  {
   "cell_type": "markdown",
   "id": "9ec7a2f8",
   "metadata": {},
   "source": [
    "## Operators\n",
    "\n",
    "In a `WHERE` clause, you can use any of the [SQL comparison operators](https://www.w3schools.com/sql/sql_operators.asp); here are the most common ones:\n",
    "\n",
    "| Symbol | Operation\n",
    "|--------| :---\n",
    "| `>` | greater than\n",
    "| `<` | less than\n",
    "| `>=` | greater than or equal\n",
    "| `<=` | less than or equal\n",
    "| `=` | equal\n",
    "| `!=` or `<>` | not equal\n",
    "\n",
    "Most of these are the same as Python, but some are not.  In particular, notice that the equality operator is `=`, not `==`.\n",
    "Be careful to keep your Python out of your ADQL!\n",
    "\n",
    "You can combine comparisons using the logical operators:\n",
    "\n",
    "* `AND`: True if both comparisons are true\n",
    "* `OR`: True if either or both comparisons are true\n",
    "\n",
    "Finally, you can use `NOT` to invert the result of a comparison. \n",
    "\n",
    "### Exercise\n",
    "\n",
    "Modify the previous query to select rows where `bp_rp` is between `-0.75` and `2`. `bp_rp` contains BP-RP color, which is the difference between two other columns, `phot_bp_mean_mag` and `phot_rp_mean_mag`."
   ]
  },
  {
   "cell_type": "code",
   "execution_count": null,
   "id": "47a497aa",
   "metadata": {},
   "outputs": [],
   "source": [
    "#Put your solution here!"
   ]
  },
  {
   "cell_type": "markdown",
   "id": "df481d6e",
   "metadata": {},
   "source": [
    "## Formatting queries\n",
    "\n",
    "The queries we have written so far are string \"literals\", meaning that the entire string is part of the program.\n",
    "But writing queries yourself can be slow, repetitive, and error-prone. It's often better to write Python code that assembles a query for you. This is a place where using [f-strings](https://www.geeksforgeeks.org/formatted-string-literals-f-strings-python/) can be very helpful.\n",
    "\n",
    "As an example, we'll divide the previous query into two parts; a list of column names and a \"base\" for the query that contains everything except the column names. Here's the list of columns we'll select:"
   ]
  },
  {
   "cell_type": "code",
   "execution_count": null,
   "id": "83246873",
   "metadata": {},
   "outputs": [],
   "source": [
    "columns = 'source_id, ra, dec, pmra, pmdec, parallax'"
   ]
  },
  {
   "cell_type": "markdown",
   "id": "b2eef6b4",
   "metadata": {},
   "source": [
    "And here's the base; it's a string that contains at least one format specifier in curly brackets (braces)."
   ]
  },
  {
   "cell_type": "code",
   "execution_count": null,
   "id": "65e9f845",
   "metadata": {},
   "outputs": [],
   "source": [
    "query3_base = f\"\"\"SELECT \n",
    "TOP 10 \n",
    "{columns}\n",
    "FROM gaiadr3.gaia_source\n",
    "WHERE parallax < 1\n",
    "  AND bp_rp BETWEEN -0.75 AND 2\n",
    "\"\"\""
   ]
  },
  {
   "cell_type": "markdown",
   "id": "173a27ff",
   "metadata": {},
   "source": [
    "This base query contains one format specifier, `{columns}`, which is a placeholder for the list of column names we will provide. By putting a `f` in front of the string, we tell Python to replace `{columns}` with the actual string that we defined previously. Let's see if it works:"
   ]
  },
  {
   "cell_type": "code",
   "execution_count": null,
   "id": "db2a4555",
   "metadata": {},
   "outputs": [],
   "source": [
    "print(query3_base)"
   ]
  },
  {
   "cell_type": "code",
   "execution_count": null,
   "id": "800ea0f3",
   "metadata": {},
   "outputs": [],
   "source": [
    "job = Gaia.launch_job(query3_base)\n",
    "print(job)"
   ]
  },
  {
   "cell_type": "code",
   "execution_count": null,
   "id": "b523398c",
   "metadata": {},
   "outputs": [],
   "source": [
    "results = job.get_results()\n",
    "results"
   ]
  },
  {
   "cell_type": "markdown",
   "id": "6e66ea30",
   "metadata": {},
   "source": [
    "It worked! This is a bit of a contrived example, but let's imagine a scenario where you want to write a function that performs your Gaia queries for you. If you made `columns` an argument for your function and included `query3_base` in the body, you could reuse the same base over and over, changing the column names easily just by changing the name you pass into your function.\n",
    "\n",
    "**NOTE:** In this example, the variable that contains the column names and the variable in the f-string have the same name: `columns`. That's not required, but it's a common style.\n",
    "\n",
    "### Exercise\n",
    "\n",
    "This query always selects sources with `parallax` less than 1.  But suppose you want to take that upper bound as an input.\n",
    "\n",
    "Modify `query3_base` to replace `1` with a format specifier like `{max_parallax}`. Then define a `max_parallax` variable separately from the query, and verify that this information is automatically added to the string."
   ]
  },
  {
   "cell_type": "code",
   "execution_count": null,
   "id": "e92a1a3f",
   "metadata": {},
   "outputs": [],
   "source": [
    "#Put your solution here!"
   ]
  },
  {
   "cell_type": "markdown",
   "id": "caa65198",
   "metadata": {},
   "source": [
    "## Working with astronomical coordinates and units\n",
    "\n",
    "Often we want to query Gaia for sources that occupy a specific region of the sky, which means providing coordinates that tell Gaia where in the sky to look. The \"default\" coordinate system in astronomy is [right ascension and declination (RA and DEC)](http://spiff.rit.edu/classes/phys445/lectures/radec/radec.html). \n",
    "\n",
    "We'll also want to specify the size of the region to look at. Astronomers usually use [angular quantities](https://lco.global/spacebook/sky/using-angles-describe-positions-and-apparent-sizes-objects/#:~:text=Astronomers%20use%20angular%20measure%20to,designated%20by%20the%20symbol%20%C2%B0.) for this. The base unit of angular size is the degree. As you probably know, a full circle is divided into 360°. One degree can be divided into 60 arcminutes (abbreviated 60 arcmin or 60'). An arcminute can also be divided into 60 arcseconds (abbreviated 60 arcsec or 60\"). \n",
    "\n",
    "The measurements we will work with are physical quantities, which means that they have two parts, a value and a unit. For example, the coordinate 30° has value 30 and its units are degrees. Astropy provides tools for including units explicitly in computations, which is extremely useful for ensuring that conversions are done properly and your calculations are returning the right results.\n",
    "\n",
    "To use Astropy units, you have to import the `astropy.units` subpackage. Convention is to abbreviate this subpackage with `u`:"
   ]
  },
  {
   "cell_type": "code",
   "execution_count": null,
   "id": "633bbb86",
   "metadata": {},
   "outputs": [],
   "source": [
    "import astropy.units as u"
   ]
  },
  {
   "cell_type": "markdown",
   "id": "24a051c1",
   "metadata": {},
   "source": [
    "`u` is an object that contains most common units and all SI units. You can use `dir` to list them, but you should also [read the documentation](https://docs.astropy.org/en/stable/units/)."
   ]
  },
  {
   "cell_type": "code",
   "execution_count": null,
   "id": "32ebf0b5",
   "metadata": {},
   "outputs": [],
   "source": [
    "dir(u)"
   ]
  },
  {
   "cell_type": "markdown",
   "id": "1a8c07bb",
   "metadata": {},
   "source": [
    "To create a physical quantity, we multiply a value by a unit."
   ]
  },
  {
   "cell_type": "code",
   "execution_count": null,
   "id": "4d63b652",
   "metadata": {},
   "outputs": [],
   "source": [
    "angle = 10 * u.degree\n",
    "type(angle)"
   ]
  },
  {
   "cell_type": "markdown",
   "id": "b4acc7b1",
   "metadata": {},
   "source": [
    "The result is a `Quantity` object.\n",
    "Jupyter has special formatting for displaying objects like this:"
   ]
  },
  {
   "cell_type": "code",
   "execution_count": null,
   "id": "a91327e6",
   "metadata": {},
   "outputs": [],
   "source": [
    "angle"
   ]
  },
  {
   "cell_type": "markdown",
   "id": "5a21f36a",
   "metadata": {},
   "source": [
    "Quantities provide a method called `to` that converts to other units.  For example, we can compute the number of arcminutes in `angle`:"
   ]
  },
  {
   "cell_type": "code",
   "execution_count": null,
   "id": "8f3391fa",
   "metadata": {},
   "outputs": [],
   "source": [
    "angle_arcmin = angle.to(u.arcmin)\n",
    "angle_arcmin"
   ]
  },
  {
   "cell_type": "markdown",
   "id": "b88bf1e9",
   "metadata": {},
   "source": [
    "If you add quantities that are the same type of measurement (e.g. angular size) but have different units, Astropy converts them to compatible units, if possible:"
   ]
  },
  {
   "cell_type": "code",
   "execution_count": null,
   "id": "e816bd09",
   "metadata": {},
   "outputs": [],
   "source": [
    "angle + 30 * u.arcmin"
   ]
  },
  {
   "cell_type": "markdown",
   "id": "902bde3a",
   "metadata": {},
   "source": [
    "If the units are not compatible (often because the measurement types are different), you get an error.\n",
    "For example:\n",
    "\n",
    "```\n",
    "angle + 5 * u.second\n",
    "```\n",
    "\n",
    "causes a `UnitConversionError`. This is because you're trying to add one quantity in units of angular size and one quantity in units of time, which doesn't make sense! You can't convert angular size into time.\n",
    "\n",
    "You'll also see an error if you try to add a \"dimensionless quantity\" (a number without associated units) to a `Quantity` object. To avoid this, it's best to always attach units to ALL of your objects. However, if you want to access just the value of a `Quantity` without the attached units, you can use the `.value` attribute:"
   ]
  },
  {
   "cell_type": "code",
   "execution_count": null,
   "id": "6247c390",
   "metadata": {
    "scrolled": true
   },
   "outputs": [],
   "source": [
    "#Throws an error\n",
    "angle + 30 "
   ]
  },
  {
   "cell_type": "code",
   "execution_count": null,
   "id": "dc5261dc",
   "metadata": {
    "scrolled": true
   },
   "outputs": [],
   "source": [
    "#Acceptable: both quantities are dimensionless\n",
    "angle.value + 30 \n",
    "\n",
    "#Acceptable: both quantities have units\n",
    "angle + 30*u.arcmin"
   ]
  },
  {
   "cell_type": "markdown",
   "id": "85bb465a",
   "metadata": {},
   "source": [
    "To represent sky coordinates relative to a specified frame, Astropy provides the `SkyCoord` object.\n",
    "\n",
    "The following example creates a `SkyCoord` object that represents the approximate coordinates of [Betelgeuse](http://simbad.u-strasbg.fr/simbad/sim-basic?Ident=Betelgeuse) in the (default) ICRS frame. [ICRS](https://www.iers.org/IERS/EN/Science/ICRS/ICRS.html) is the\n",
    "\"International Celestial Reference System\", adopted in 1997 by the International Astronomical Union."
   ]
  },
  {
   "cell_type": "code",
   "execution_count": null,
   "id": "39720122",
   "metadata": {},
   "outputs": [],
   "source": [
    "from astropy.coordinates import SkyCoord\n",
    "\n",
    "ra = 88.8 * u.degree\n",
    "dec = 7.4 * u.degree\n",
    "coord_icrs = SkyCoord(ra, dec)\n",
    "\n",
    "coord_icrs"
   ]
  },
  {
   "cell_type": "markdown",
   "id": "565566ec",
   "metadata": {},
   "source": [
    "`SkyCoord` is a very flexible object (see the [documentation](https://docs.astropy.org/en/stable/api/astropy.coordinates.SkyCoord.html) to learn more about it). You can pass in multiple formats of RA and DEC values. You can also use one `SkyCoord` object to store a list of coordinates (rather than just one coordinate), which allows you to use a bunch of useful methods for catalog matching and other functionality."
   ]
  },
  {
   "cell_type": "markdown",
   "id": "04a59216",
   "metadata": {},
   "source": [
    "### Exercise\n",
    "\n",
    "Create a quantity that represents 5 [arcminutes](https://en.wikipedia.org/wiki/Minute_and_second_of_arc) and assign it to a variable called `radius`.\n",
    "\n",
    "Then convert it to degrees."
   ]
  },
  {
   "cell_type": "code",
   "execution_count": null,
   "id": "4983092a",
   "metadata": {},
   "outputs": [],
   "source": [
    "#Put your solution here!"
   ]
  },
  {
   "cell_type": "markdown",
   "id": "f6c06830",
   "metadata": {},
   "source": [
    "## Selecting a region\n",
    "\n",
    "Now that we understand units and coordinates, we can create queries that select particular regions of the sky. For example, here's a query from the [Gaia archive documentation](https://gea.esac.esa.int/archive-help/adql/examples/index.html) that selects objects in a circular region centered at (88.8, 7.4) with a search radius of 5 arcmin (0.08333 deg)."
   ]
  },
  {
   "cell_type": "code",
   "execution_count": null,
   "id": "74f90f79",
   "metadata": {},
   "outputs": [],
   "source": [
    "query_cone = \"\"\"SELECT \n",
    "TOP 100 \n",
    "source_id, ra, dec\n",
    "FROM gaiadr3.gaia_source\n",
    "WHERE 1=CONTAINS(\n",
    "  POINT(ra, dec),\n",
    "  CIRCLE(88.8, 7.4, 0.08333333))\n",
    "\"\"\""
   ]
  },
  {
   "cell_type": "markdown",
   "id": "327a7a59",
   "metadata": {},
   "source": [
    "This query uses three keywords that are specific to ADQL (not SQL):\n",
    "\n",
    "* `POINT`: a location in [ICRS coordinates](https://en.wikipedia.org/wiki/International_Celestial_Reference_System), specified in **degrees** of right ascension and declination.\n",
    "\n",
    "* `CIRCLE`: a circle where the first two values are the coordinates of the center and the third is the radius in degrees.\n",
    "\n",
    "* `CONTAINS`: a function that returns `1` if a `POINT` is contained in a shape and `0` otherwise.\n",
    "\n",
    "Here is the [documentation of `CONTAINS`](http://www.ivoa.net/documents/ADQL/20180112/PR-ADQL-2.1-20180112.html#tth_sEc4.2.12).\n",
    "\n",
    "A query like this is called a cone search because it selects stars in a cone. Once we've defined our query, we run it just like we would run any other job:"
   ]
  },
  {
   "cell_type": "code",
   "execution_count": null,
   "id": "cd8a5f3a",
   "metadata": {},
   "outputs": [],
   "source": [
    "job = Gaia.launch_job(query_cone)\n",
    "job"
   ]
  },
  {
   "cell_type": "code",
   "execution_count": null,
   "id": "9e363134",
   "metadata": {
    "scrolled": true
   },
   "outputs": [],
   "source": [
    "results = job.get_results()\n",
    "results"
   ]
  },
  {
   "cell_type": "markdown",
   "id": "210be3de",
   "metadata": {},
   "source": [
    "### Exercise\n",
    "\n",
    "Cone searches are a very common tool for astronomers, who often want to identify all of the sources near a known source. Another case you might encounter is wanting to find all of the sources that fall within a certain rectangle on the sky, defined by corners in RA and DEC. You can do this by defining a `POLYGON` in ADQL (see the resources linked at the bottom of this notebook to learn how), or you can simply chain together conditional statements that check for RAs and DECs within your rectangular boundaries. \n",
    "\n",
    "Using the latter approach, write a query that finds all sources within a rectangle ranging from 88.3 to 89.3 in RA and 6.9 to 7.9 in DEC."
   ]
  },
  {
   "cell_type": "code",
   "execution_count": null,
   "id": "3379217a",
   "metadata": {},
   "outputs": [],
   "source": [
    "#Put your solution here!"
   ]
  },
  {
   "cell_type": "markdown",
   "id": "94b4fe05",
   "metadata": {},
   "source": [
    "## Working with the results of your query\n",
    "\n",
    "So now that we've retrieved our data, how do we work with it?\n",
    "\n",
    "As mentioned previously, `astroquery` returns the results of each Gaia query as an Astropy `Table` object. There's a bunch of different ways to [manipulate these objects](https://docs.astropy.org/en/stable/table/indexing.html), but some of the most straightforward commands are outlined below.\n",
    "\n",
    "You can get the names of the columns in a table like this:"
   ]
  },
  {
   "cell_type": "code",
   "execution_count": null,
   "id": "774dbf8a",
   "metadata": {},
   "outputs": [],
   "source": [
    "results.colnames"
   ]
  },
  {
   "cell_type": "markdown",
   "id": "609d50a3",
   "metadata": {},
   "source": [
    "And select an individual column like this:"
   ]
  },
  {
   "cell_type": "code",
   "execution_count": null,
   "id": "8a5787d9",
   "metadata": {
    "scrolled": true
   },
   "outputs": [],
   "source": [
    "results['ra']"
   ]
  },
  {
   "cell_type": "markdown",
   "id": "672f7782",
   "metadata": {},
   "source": [
    "The result is a `Column` object that contains the data, and also the data type, units, and name of the column. Specifically, this is a `MaskedColumn` because there might be missing data values, which are represented by \"masked\" values. For our purposes, though, the functionality is the same as a normal `Column`."
   ]
  },
  {
   "cell_type": "code",
   "execution_count": null,
   "id": "632c7b0e",
   "metadata": {},
   "outputs": [],
   "source": [
    "type(results['ra'])"
   ]
  },
  {
   "cell_type": "markdown",
   "id": "1d396ae8",
   "metadata": {},
   "source": [
    "The rows in the `Table` are numbered from 0 to `n-1`, where `n` is the number of rows.  We can select the first row like this:"
   ]
  },
  {
   "cell_type": "code",
   "execution_count": null,
   "id": "d492320a",
   "metadata": {},
   "outputs": [],
   "source": [
    "results[0]"
   ]
  },
  {
   "cell_type": "markdown",
   "id": "0a9453d0",
   "metadata": {},
   "source": [
    "As you might have guessed, the result is a `Row` object."
   ]
  },
  {
   "cell_type": "code",
   "execution_count": null,
   "id": "7fd7ddcc",
   "metadata": {},
   "outputs": [],
   "source": [
    "type(results[0])"
   ]
  },
  {
   "cell_type": "markdown",
   "id": "13139c14",
   "metadata": {},
   "source": [
    "Notice that the bracket operator selects both columns and rows.  You might wonder how it knows which to select.\n",
    "If the expression in brackets is a string, it selects a column; if the expression is an integer, it selects a row.\n",
    "\n",
    "If you apply the bracket operator twice, you can select a column and then an element from the column."
   ]
  },
  {
   "cell_type": "code",
   "execution_count": null,
   "id": "2fdaa1dc",
   "metadata": {},
   "outputs": [],
   "source": [
    "results['ra'][0]"
   ]
  },
  {
   "cell_type": "markdown",
   "id": "8abc6f16",
   "metadata": {},
   "source": [
    "Or you can select a row and then an element from the row."
   ]
  },
  {
   "cell_type": "code",
   "execution_count": null,
   "id": "4fe3781a",
   "metadata": {},
   "outputs": [],
   "source": [
    "results[0]['ra']"
   ]
  },
  {
   "cell_type": "markdown",
   "id": "eede77f5",
   "metadata": {},
   "source": [
    "You get the same result either way.\n",
    "\n",
    "If you want to select only a subset of the data in a table, based on the values in one or more of the columns, you can use filtering:"
   ]
  },
  {
   "cell_type": "code",
   "execution_count": null,
   "id": "85871db6",
   "metadata": {
    "scrolled": true
   },
   "outputs": [],
   "source": [
    "results[results['ra'] < 88.8]"
   ]
  },
  {
   "cell_type": "markdown",
   "id": "64d138e3",
   "metadata": {},
   "source": [
    "When you want to chain together multiple filter conditions, put parentheses around each condition, and use `|` for \"or\", `&` for \"and\", and `~` for \"not\"."
   ]
  },
  {
   "cell_type": "code",
   "execution_count": null,
   "id": "aeb748f5",
   "metadata": {
    "scrolled": true
   },
   "outputs": [],
   "source": [
    "results[(results['ra'] < 88.8) & (results['dec'] > 7.34)]"
   ]
  },
  {
   "cell_type": "markdown",
   "id": "18b32a91",
   "metadata": {},
   "source": [
    "## Saving and loading query results\n",
    "\n",
    "What if you want to download the results of a Gaia query and save them for later? This is straightforward to do through the online portal, but not as obvious when you run your query from a Python script or notebook. However, it's a useful skill to have. Storing the data in a file means we can shut down this notebook and pick up where we left off without running the previous query again -- this is especially useful for queries that take a long time to run!\n",
    "\n",
    "Astropy `Table` objects provide `write`, which writes the table to disk."
   ]
  },
  {
   "cell_type": "code",
   "execution_count": null,
   "id": "563c365e",
   "metadata": {},
   "outputs": [],
   "source": [
    "filename = 'query_results.fits'\n",
    "results.write(filename, overwrite=True)"
   ]
  },
  {
   "cell_type": "markdown",
   "id": "9640c9f0",
   "metadata": {},
   "source": [
    "Because the filename ends with `fits`, the table is written in the [FITS format](https://en.wikipedia.org/wiki/FITS), which preserves the metadata associated with the table.\n",
    "\n",
    "If the file already exists, the `overwrite` argument causes it to be overwritten.\n",
    "\n",
    "To read the data from the file back into an Astropy `Table`, either in this notebook or in another piece of code, we would then simply use the `.read` method:"
   ]
  },
  {
   "cell_type": "code",
   "execution_count": null,
   "id": "4b93c300",
   "metadata": {
    "scrolled": true
   },
   "outputs": [],
   "source": [
    "from astropy.table import Table\n",
    "old_results = Table.read(filename)\n",
    "old_results"
   ]
  },
  {
   "cell_type": "markdown",
   "id": "df412150",
   "metadata": {},
   "source": [
    "## Putting it all together \n",
    "\n",
    "This [Hertzsprung-Russell diagram](https://sci.esa.int/web/gaia/-/60198-gaia-hertzsprung-russell-diagram) shows the BP-RP color and luminosity of stars in the Gaia catalog: \n",
    "\n",
    "<img width=\"300\" src=\"https://github.com/AllenDowney/AstronomicalData/raw/main/images/1567214809100-ESA_Gaia_DR2_HRD_Gaia_625.jpg\">\n",
    "\n",
    "*(Copyright: ESA/Gaia/DPAC, CC BY-SA 3.0 IGO)*\n",
    "\n",
    "Let's make our own HR diagram with stars that are within 100 parsecs (pc) of the Sun! That distance corresponds to a parallax of 10 mas. To do this:\n",
    "\n",
    "1. Write a query that selects the TOP 10000 stars that have parallaxes greater than or equal to 10 mas from the main Gaia DR3 table. You'll want the columns listed in the first cell below.\n",
    "\n",
    "2. Use `matplotlib` to plot a CMD, with BP-RP color on the x-axis and G magnitude on the y-axis. Make sure to invert the y-axis to match the conventions of CMDs!\n",
    "\n",
    "3. See what features of the Gaia HRD you can identify in your HRD. What's different about your plot? What might be causing the difference?"
   ]
  },
  {
   "cell_type": "code",
   "execution_count": null,
   "id": "a814757f",
   "metadata": {},
   "outputs": [],
   "source": [
    "import matplotlib.pyplot as plt"
   ]
  },
  {
   "cell_type": "code",
   "execution_count": null,
   "id": "b332e019",
   "metadata": {},
   "outputs": [],
   "source": [
    "columns = 'source_id, ra, dec, parallax, bp_rp, phot_g_mean_mag'"
   ]
  },
  {
   "cell_type": "code",
   "execution_count": null,
   "id": "f743c2fb",
   "metadata": {},
   "outputs": [],
   "source": [
    "#Put your solution here!"
   ]
  },
  {
   "cell_type": "markdown",
   "id": "560a3c6d",
   "metadata": {},
   "source": [
    "## More ADQL resources\n",
    "\n",
    "The official ADQL documentation can be found [here](https://www.ivoa.net/documents/ADQL/20180112/PR-ADQL-2.1-20180112.html). However, when it comes to writing your own queries, you'll probably find it more helpful to refer to cheatsheets and examples. Here are some of my go-tos:\n",
    "\n",
    "* [General syntax](https://docs.appdynamics.com/appd/24.x/latest/en/analytics/adql-reference/adql-queries)\n",
    "* [Simbad ADQL cheatsheet](https://simbad.u-strasbg.fr/simbad/tap/help/adqlHelp.html)\n",
    "* [Vizier ADQL cheatsheet](https://tapvizier.u-strasbg.fr/adql/help.html)\n",
    "* [Examples from Gaia](https://gea.esac.esa.int/archive-help/adql/examples/index.html)\n",
    "* [More examples from Gaia](https://www.cosmos.esa.int/web/gaia-users/archive/writing-queries)"
   ]
  }
 ],
 "metadata": {
  "kernelspec": {
   "display_name": "Python 3 (ipykernel)",
   "language": "python",
   "name": "python3"
  },
  "language_info": {
   "codemirror_mode": {
    "name": "ipython",
    "version": 3
   },
   "file_extension": ".py",
   "mimetype": "text/x-python",
   "name": "python",
   "nbconvert_exporter": "python",
   "pygments_lexer": "ipython3",
   "version": "3.11.5"
  }
 },
 "nbformat": 4,
 "nbformat_minor": 5
}
